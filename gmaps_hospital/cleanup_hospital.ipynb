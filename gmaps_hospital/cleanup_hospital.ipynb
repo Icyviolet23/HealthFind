{
 "cells": [
  {
   "cell_type": "code",
   "execution_count": 1,
   "id": "3d58935d",
   "metadata": {},
   "outputs": [],
   "source": [
    "import pandas as pd\n",
    "import requests\n",
    "import secret"
   ]
  },
  {
   "cell_type": "code",
   "execution_count": 2,
   "id": "ea4cdde5",
   "metadata": {},
   "outputs": [],
   "source": [
    "API_KEY = ''\n",
    "#https://learndataanalysis.org/google-geocoding-api-tutorial-for-python/\n",
    "def getLatLng(address):\n",
    "    params = {\n",
    "        'key': secret.REACT_APP_GOOGLE_MAPS_API_KEY,\n",
    "        'address': address.replace(' ', '+')\n",
    "    }\n",
    "\n",
    "    api = 'https://maps.googleapis.com/maps/api/geocode/json?'\n",
    "    response = requests.get(api, params=params)\n",
    "    data = response.json()\n",
    "    if data['status'] == 'OK':\n",
    "        print(f\"Processed : {address}\")\n",
    "        result = data['results'][0]\n",
    "        location = result['geometry']['location']\n",
    "        return (location['lat'], location['lng'])\n",
    "    else:\n",
    "        #if we cannot find then do this\n",
    "        return (\"NaN\", \"NaN\")"
   ]
  },
  {
   "cell_type": "code",
   "execution_count": null,
   "id": "f3d9d7a9",
   "metadata": {},
   "outputs": [],
   "source": [
    "df = pd.read_csv (\"hospital_list.csv\", index_col = 0)"
   ]
  },
  {
   "cell_type": "code",
   "execution_count": null,
   "id": "ff0d75ff",
   "metadata": {},
   "outputs": [],
   "source": [
    "#we replace the NaN values with empty string for columsn Region, Province and City\n",
    "# this is to get the actual place name\n",
    "df['CITY'].fillna('', inplace = True)\n",
    "df['REGION'].fillna('', inplace = True)\n",
    "df['PROVINCE'].fillna('', inplace = True)"
   ]
  },
  {
   "cell_type": "code",
   "execution_count": null,
   "id": "22eb97e3",
   "metadata": {},
   "outputs": [],
   "source": [
    "df[\"Mapping_Address\"] = df[\"Actual Hospital Name\"] + \", \" + df[\"REGION\"] + \", \" + df[\"PROVINCE\"] +  \", \" + df[\"CITY\"]"
   ]
  },
  {
   "cell_type": "code",
   "execution_count": null,
   "id": "ed352d92",
   "metadata": {},
   "outputs": [],
   "source": [
    "def cleanMapAddress (x):\n",
    "    x = str(x)\n",
    "    x = x.strip()\n",
    "    if x[-1] == \",\":\n",
    "        return x[:-1]\n",
    "    else:\n",
    "        return x"
   ]
  },
  {
   "cell_type": "code",
   "execution_count": null,
   "id": "93c167ba",
   "metadata": {},
   "outputs": [],
   "source": [
    "def replaceEmptyString (x):\n",
    "    if x == '':\n",
    "        return \"N/A\""
   ]
  },
  {
   "cell_type": "code",
   "execution_count": null,
   "id": "a16015ac",
   "metadata": {},
   "outputs": [],
   "source": [
    "def cleanEmail (email):\n",
    "    result = \"\"\n",
    "    for i in email:\n",
    "        if i == \" \":\n",
    "            continue\n",
    "        result += i\n",
    "    return result"
   ]
  },
  {
   "cell_type": "code",
   "execution_count": null,
   "id": "ee9edcdb",
   "metadata": {},
   "outputs": [],
   "source": [
    "df[\"Mapping_Address\"] = df[\"Mapping_Address\"].map(lambda x : cleanMapAddress (x))"
   ]
  },
  {
   "cell_type": "code",
   "execution_count": null,
   "id": "cb9fda56",
   "metadata": {},
   "outputs": [],
   "source": [
    "#fill back with \"NaN\"\n",
    "df['CITY'].map (lambda x : replaceEmptyString (x))\n",
    "df['REGION'].map (lambda x : replaceEmptyString (x))\n",
    "df['PROVINCE'].map (lambda x : replaceEmptyString (x))\n",
    "df.fillna (\"NaN\", inplace = True)\n",
    "df.rename (columns={\"OWNERSHIP CLASS.\": \"OWNERSHIP_CLASS\", \n",
    "                    \"MEDICAL DIRECTOR/ CHIEF OF HOSPITAL\": \"MEDICAL_DIRECTOR\",\n",
    "                   \"SERVCE CAPABILITY\" : \"SERVCE_CAPABILITY\",\n",
    "                   \"CONTACT NOS.\" : \"CONTACT\",\n",
    "                   \"E-MAIL ADDRESS\": \"EMAIL\",\n",
    "                   \"FAX NO.\": \"FAX\",\n",
    "                   \"MOBILE NO.\": \"MOBILE\"}, inplace = True)\n",
    "\n",
    "df['EMAIL'] = df['EMAIL'].map (lambda x : cleanEmail (x))"
   ]
  },
  {
   "cell_type": "code",
   "execution_count": null,
   "id": "faba0f2b",
   "metadata": {},
   "outputs": [],
   "source": [
    "df.head()"
   ]
  },
  {
   "cell_type": "code",
   "execution_count": null,
   "id": "31fee3d4",
   "metadata": {},
   "outputs": [],
   "source": [
    "df['lat'] = df[\"Mapping_Address\"].map (lambda x : getLatLng(x)[0])\n",
    "df['lng'] = df[\"Mapping_Address\"].map (lambda x : getLatLng(x)[1])"
   ]
  },
  {
   "cell_type": "code",
   "execution_count": null,
   "id": "a099a1af",
   "metadata": {},
   "outputs": [],
   "source": [
    "df.head()"
   ]
  },
  {
   "cell_type": "code",
   "execution_count": null,
   "id": "bee5c131",
   "metadata": {},
   "outputs": [],
   "source": [
    "df.shape"
   ]
  },
  {
   "cell_type": "code",
   "execution_count": null,
   "id": "fdb7282f",
   "metadata": {},
   "outputs": [],
   "source": [
    "#remove duplicated rows\n",
    "df = df.drop_duplicates(keep='first')"
   ]
  },
  {
   "cell_type": "code",
   "execution_count": null,
   "id": "79dc569b",
   "metadata": {},
   "outputs": [],
   "source": [
    "df.shape"
   ]
  },
  {
   "cell_type": "code",
   "execution_count": null,
   "id": "d04e9348",
   "metadata": {},
   "outputs": [],
   "source": [
    "no_coord_df = df[(df['lat'] == \"NaN\") | (df['lng'] == \"NaN\")]\n",
    "no_coord_df.shape"
   ]
  },
  {
   "cell_type": "code",
   "execution_count": null,
   "id": "0eb54bc7",
   "metadata": {},
   "outputs": [],
   "source": [
    "coord_df = df[(df['lat'] != \"NaN\") & (df['lng'] != \"NaN\")]\n",
    "coord_df.shape"
   ]
  },
  {
   "cell_type": "code",
   "execution_count": null,
   "id": "8a4dc9c0",
   "metadata": {},
   "outputs": [],
   "source": [
    "coord_df.to_csv (\"mapping_data_hospital.csv\", index = False)"
   ]
  },
  {
   "cell_type": "code",
   "execution_count": null,
   "id": "69bd56c7",
   "metadata": {},
   "outputs": [],
   "source": [
    "no_coord_df.to_csv (\"no_mapping_data_hospital.csv\", index = False)"
   ]
  },
  {
   "cell_type": "code",
   "execution_count": null,
   "id": "4d19d310",
   "metadata": {},
   "outputs": [],
   "source": []
  }
 ],
 "metadata": {
  "kernelspec": {
   "display_name": "Python 3",
   "language": "python",
   "name": "python3"
  },
  "language_info": {
   "codemirror_mode": {
    "name": "ipython",
    "version": 3
   },
   "file_extension": ".py",
   "mimetype": "text/x-python",
   "name": "python",
   "nbconvert_exporter": "python",
   "pygments_lexer": "ipython3",
   "version": "3.8.8"
  }
 },
 "nbformat": 4,
 "nbformat_minor": 5
}
